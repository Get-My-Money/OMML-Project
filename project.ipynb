{
 "cells": [
  {
   "cell_type": "markdown",
   "source": [
    "__Federated Learning__\n",
    "\n"
   ],
   "metadata": {
    "collapsed": false
   },
   "id": "fc8f17470001d71b"
  },
  {
   "cell_type": "code",
   "execution_count": 12,
   "id": "initial_id",
   "metadata": {
    "collapsed": true,
    "ExecuteTime": {
     "end_time": "2023-12-03T16:00:05.834013100Z",
     "start_time": "2023-12-03T16:00:05.812778700Z"
    }
   },
   "outputs": [],
   "source": [
    "import itertools\n",
    "import random\n",
    "\n",
    "import numpy\n",
    "import sklearn.metrics\n",
    "import torch\n",
    "from torch import Tensor\n",
    "import numpy as np\n",
    "import pandas as pd\n",
    "from sklearn.model_selection import train_test_split\n",
    "from sklearn.metrics import accuracy_score\n",
    "import tqdm\n",
    "from matplotlib import pyplot as plt\n",
    "\n",
    "# from models import LogisticRegressionModel\n",
    "# from Tensor import Tensor\n",
    "\n",
    "device = \"cuda\" if torch.cuda.is_available() else \"cpu\""
   ]
  },
  {
   "cell_type": "markdown",
   "source": [
    "__Data Preprocessing__"
   ],
   "metadata": {
    "collapsed": false
   },
   "id": "9cbc988c8786bc33"
  },
  {
   "cell_type": "code",
   "execution_count": 54,
   "outputs": [
    {
     "data": {
      "text/plain": "<torch.autograd.grad_mode.set_grad_enabled at 0x1d5d8950cd0>"
     },
     "execution_count": 54,
     "metadata": {},
     "output_type": "execute_result"
    }
   ],
   "source": [
    "device = torch.device(f'cuda:{torch.cuda.current_device()}') if torch.cuda.is_available() else 'cpu'\n",
    "torch.set_default_device(device)\n",
    "torch.set_default_dtype(torch.float32)\n",
    "torch.set_grad_enabled(True)"
   ],
   "metadata": {
    "collapsed": false,
    "ExecuteTime": {
     "end_time": "2023-12-03T18:41:54.116529800Z",
     "start_time": "2023-12-03T18:41:54.096646300Z"
    }
   },
   "id": "e587067321cfb4a0"
  },
  {
   "cell_type": "code",
   "execution_count": 55,
   "outputs": [],
   "source": [
    "df = pd.read_csv(\"mushrooms.csv\")\n",
    "df = pd.get_dummies(df, drop_first=True).astype(float)\n",
    "y = df.class_p\n",
    "X = df.drop('class_p', axis=1)\n",
    "X.insert(0, \"bias\", np.ones(X.shape[0]))\n",
    "X_train, X_test, y_train, y_test = (\n",
    "    Tensor(i.to_numpy()).to(device) for i in train_test_split(X, y, test_size=0.33, random_state=239)\n",
    ")\n",
    "\n",
    "y_train = y_train.reshape(-1, 1)"
   ],
   "metadata": {
    "collapsed": false,
    "ExecuteTime": {
     "end_time": "2023-12-03T18:41:56.711605700Z",
     "start_time": "2023-12-03T18:41:56.646444300Z"
    }
   },
   "id": "e9c92b13cabae697"
  },
  {
   "cell_type": "code",
   "execution_count": 56,
   "outputs": [],
   "source": [
    "import math\n",
    "\n",
    "class LogisticRegression:\n",
    "    \n",
    "    def __init__(self, X_train, y_train):\n",
    "        self.weight: Tensor = torch.zeros(y_train.shape[1], X_train.shape[1], requires_grad=True).to(device)\n",
    "        self.X_train = X_train\n",
    "        self.y_train = y_train\n",
    "    \n",
    "    @staticmethod\n",
    "    def logistic(z: Tensor) -> Tensor:\n",
    "        return 1 / (1 + torch.exp(-z))\n",
    "\n",
    "    @staticmethod\n",
    "    def logistic_reg_model(X: Tensor, w: Tensor) -> Tensor:\n",
    "        return LogisticRegression.logistic(X @ w.t())\n",
    "    \n",
    "    @staticmethod\n",
    "    def binary_cross_entropy(predicted: Tensor, true: Tensor) -> Tensor:\n",
    "        return -(true * predicted.log() + (1 - true) * (1 - predicted).log()).mean()\n",
    "    \n",
    "    def forward_pass(self) -> None:\n",
    "        predictions = LogisticRegression.logistic_reg_model(self.X_train, self.weight)\n",
    "        loss = entropy=LogisticRegression.binary_cross_entropy(predictions, self.y_train)\n",
    "        loss.backward()\n",
    "        return predictions\n",
    "    \n",
    "    def predict(self, X) -> Tensor:\n",
    "        with torch.no_grad():\n",
    "            wet_predictions = LogisticRegression.logistic_reg_model(X, self.weight)\n",
    "            return torch.round(wet_predictions)"
   ],
   "metadata": {
    "collapsed": false,
    "ExecuteTime": {
     "end_time": "2023-12-03T18:41:59.046262100Z",
     "start_time": "2023-12-03T18:41:59.044241500Z"
    }
   },
   "id": "d0f0706547546604"
  },
  {
   "cell_type": "code",
   "execution_count": 57,
   "outputs": [
    {
     "name": "stderr",
     "output_type": "stream",
     "text": [
      "100%|██████████| 1000/1000 [00:02<00:00, 377.37it/s]\n"
     ]
    }
   ],
   "source": [
    "import matplotlib.pyplot as plt\n",
    "\n",
    "def naiveGD_LG(epochs, learning_rate, X_train, y_train, X_test, y_test):\n",
    "    accuracy_history = []\n",
    "    model = LogisticRegression(X_train, y_train)\n",
    "    for _ in tqdm.tqdm(range(epochs)):\n",
    "        model.forward_pass()\n",
    "        with torch.no_grad():\n",
    "            update = -1 * learning_rate * model.weight.grad\n",
    "            model.weight += update\n",
    "            classes = model.predict(X_test)\n",
    "            accuracy_history.append(\n",
    "                accuracy_score(\n",
    "                    y_test.to(\"cpu\"), \n",
    "                    classes.to(\"cpu\")\n",
    "                )\n",
    "            )\n",
    "            model.weight.grad.zero_()\n",
    "    return accuracy_history\n",
    "accuracy_history_GD_LG = naiveGD_LG(1000, 0.1, X_train, y_train, X_test, y_test)"
   ],
   "metadata": {
    "collapsed": false,
    "ExecuteTime": {
     "end_time": "2023-12-03T18:42:04.426368200Z",
     "start_time": "2023-12-03T18:42:01.763496800Z"
    }
   },
   "id": "be96bde3a284bdf7"
  },
  {
   "cell_type": "code",
   "execution_count": 58,
   "outputs": [
    {
     "data": {
      "text/plain": "[<matplotlib.lines.Line2D at 0x1d5d9e9c490>]"
     },
     "execution_count": 58,
     "metadata": {},
     "output_type": "execute_result"
    },
    {
     "data": {
      "text/plain": "<Figure size 640x480 with 1 Axes>",
      "image/png": "[encoded data removed]"
     },
     "metadata": {},
     "output_type": "display_data"
    }
   ],
   "source": [
    "plt.plot(accuracy_history_GD_LG)"
   ],
   "metadata": {
    "collapsed": false,
    "ExecuteTime": {
     "end_time": "2023-12-03T18:42:07.011072200Z",
     "start_time": "2023-12-03T18:42:06.916114Z"
    }
   },
   "id": "9511beac43e1755a"
  },
  {
   "cell_type": "code",
   "execution_count": 121,
   "outputs": [
    {
     "name": "stderr",
     "output_type": "stream",
     "text": [
      "4it [01:29, 22.38s/it]\n"
     ]
    }
   ],
   "source": [
    "import time\n",
    "\n",
    "\n",
    "def L2GD(nodesAmount, probabilities, lambdas, X_train, y_train):\n",
    "    alpha = 0.1\n",
    "    iterations = 1000\n",
    "    idx = torch.randperm(X_train.shape[0])\n",
    "    X_train = X_train[idx]  \n",
    "    y_train = y_train[idx]  \n",
    "    history = np.zeros((5, 5, iterations, nodesAmount + 1))\n",
    "    for probability, lam in tqdm.tqdm(itertools.product(probabilities, lambdas)):\n",
    "        coeff = alpha * lam / nodesAmount / probability\n",
    "        assert coeff < 1 / 2\n",
    "\n",
    "        nodes: list[LogisticRegression] = [\n",
    "            LogisticRegression(\n",
    "                X_train[i * (X_train.shape[0] // nodesAmount): (i + 1) * (X_train.shape[0] // nodesAmount)],\n",
    "                y_train[i * (y_train.shape[0] // nodesAmount): (i + 1) * (y_train.shape[0] // nodesAmount)]\n",
    "            )\n",
    "            for i in range(nodesAmount)\n",
    "        ]\n",
    "\n",
    "        for k in range(iterations):\n",
    "            if not random.random() < probability or k == 0:\n",
    "                for node in nodes:\n",
    "                    if not node.weight.requires_grad:\n",
    "                        print(k)\n",
    "                        return \n",
    "                    node.forward_pass()\n",
    "                    if np.NAN in node.weight.grad:\n",
    "                        return\n",
    "                    with torch.no_grad():\n",
    "                        update = -1 * alpha * node.weight.grad\n",
    "                        node.weight += update\n",
    "                    if torch.nan in node.weight.grad:\n",
    "                        print(\"AAAA\")\n",
    "                    node.weight.grad.zero_()\n",
    "            else:\n",
    "                with torch.no_grad():\n",
    "                    average = sum(node.weight for node in nodes) / nodesAmount\n",
    "                    for node in nodes:\n",
    "                        delta = ((1 - coeff) * node.weight + coeff * average) - node.weight\n",
    "                        node.weight += delta\n",
    "                        node.weight.grad.zero_()\n",
    "\n",
    "            # MID EVALUATION\n",
    "            with torch.no_grad():\n",
    "                prob_index = np.where(probabilities == probability)\n",
    "                lam_index = np.where(lambdas == lam)\n",
    "\n",
    "                for i in range(len(nodes)):\n",
    "                    node = nodes[i]\n",
    "                    y_pred = node.predict(X_test)\n",
    "                    try:\n",
    "                        score = accuracy_score(\n",
    "                            y_test.to(\"cpu\"),\n",
    "                            y_pred.to(\"cpu\")\n",
    "                        )\n",
    "                        history[prob_index, lam_index, k, i] = score\n",
    "                    except Exception:\n",
    "                        print(\"BBB\")\n",
    "                        print(node.weight)\n",
    "                        print(delta)\n",
    "                        print(k)\n",
    "\n",
    "                average = sum(node.weight for node in nodes) / nodesAmount\n",
    "                av_model = LogisticRegression(X_train, y_train)\n",
    "                av_model.weight += average\n",
    "                y_pred = av_model.predict(X_test)\n",
    "                if torch.nan in y_pred:\n",
    "                    print(av_model.weight)\n",
    "                    return\n",
    "                score = accuracy_score(\n",
    "                    y_test.to(\"cpu\"),\n",
    "                    y_pred.to(\"cpu\")\n",
    "                )\n",
    "                history[prob_index, lam_index, k, nodesAmount] = score\n",
    "    return history\n",
    "\n",
    "\n",
    "nodes_amount = 10\n",
    "probabilities = np.linspace(0.1, 0.5, 2)\n",
    "lambdas = np.linspace(1e-5, 0.1, 2)\n",
    "history = L2GD(nodes_amount, probabilities, lambdas, X_train, y_train)"
   ],
   "metadata": {
    "collapsed": false,
    "ExecuteTime": {
     "end_time": "2023-12-03T19:34:50.652684Z",
     "start_time": "2023-12-03T19:33:20.431998900Z"
    }
   },
   "id": "b82cf3ccf0fdabb6"
  },
  {
   "cell_type": "code",
   "execution_count": 122,
   "outputs": [
    {
     "data": {
      "text/plain": "<Figure size 640x480 with 1 Axes>",
      "image/png": "[encoded data removed]"
     },
     "metadata": {},
     "output_type": "display_data"
    }
   ],
   "source": [
    "for i in range(nodes_amount+ 1):\n",
    "    i_th_node_history = history[1, 1, :, i]\n",
    "    color_plot = 'red' if i == nodes_amount else 'blue'\n",
    "    plt.yscale(\"log\")\n",
    "    plt.plot(i_th_node_history, color = color_plot)"
   ],
   "metadata": {
    "collapsed": false,
    "ExecuteTime": {
     "end_time": "2023-12-03T19:34:54.163795200Z",
     "start_time": "2023-12-03T19:34:54.002831800Z"
    }
   },
   "id": "5bc73339b6838857"
  }
 ],
 "metadata": {
  "kernelspec": {
   "display_name": "Python 3",
   "language": "python",
   "name": "python3"
  },
  "language_info": {
   "codemirror_mode": {
    "name": "ipython",
    "version": 2
   },
   "file_extension": ".py",
   "mimetype": "text/x-python",
   "name": "python",
   "nbconvert_exporter": "python",
   "pygments_lexer": "ipython2",
   "version": "2.7.6"
  }
 },
 "nbformat": 4,
 "nbformat_minor": 5
}
